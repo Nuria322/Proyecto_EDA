import pandas as pd

def crear_dataframe_vacio():
    # Definir las columnas del DataFrame
    columnas = [
        'Tipo de Dato',
        'Cardinalidad',
        '% Cardinalidad',
        'Valores Faltantes',
        '% Valores Faltantes',
        'Categoría'
    ]
    
    # Crear un DataFrame vacío con las columnas definidas
    df = pd.DataFrame(columns=columnas)
    
    return df

def rellenar_dataframe(df_vacio, df_original):
    # Lista para almacenar las filas que se agregarán al DataFrame
    filas = []
    
    # Iterar sobre las columnas del DataFrame original
    for col in df_original.columns:
        tipo_dato = str(df_original[col].dtype)  # Tipo de dato
        cardinalidad = df_original[col].nunique()  # Cardinalidad
        percent_cardinalidad = (cardinalidad / len(df_original)) * 100  # % Cardinalidad
        valores_faltantes = df_original[col].isnull().sum()  # Valores faltantes
        percent_valores_faltantes = (valores_faltantes / len(df_original)) * 100  # % Valores faltantes
        
        # Determinar la categoría
        if tipo_dato == 'object':
            categoria = 'Categorica Nominal' if cardinalidad > 2 else 'Binaria'
        elif 'int' in tipo_dato:
            categoria = 'Numerica Discreta'
        elif 'float' in tipo_dato:
            categoria = 'Numerica Continua'
        else:
            categoria = 'Desconocida'
        
        # Crear un diccionario con los datos
        datos = {
            'Tipo de Dato': tipo_dato,
            'Cardinalidad': cardinalidad,
            '% Cardinalidad': percent_cardinalidad,
            'Valores Faltantes': valores_faltantes,
            '% Valores Faltantes': percent_valores_faltantes,
            'Categoría': categoria
        }
        
        # Agregar la fila a la lista
        filas.append(datos)
    
    # Convertir la lista de filas a un DataFrame y concatenar
    df_vacio = pd.concat([df_vacio, pd.DataFrame(filas)], ignore_index=True)
    
    return df_vacio

# Cargar el DataFrame original
df_original = pd.read_csv(r'C:\Users\nuria\Proyecto_EDA\data\raw\Student Depression Dataset.csv')

# Crear un DataFrame vacío
df_vacio = crear_dataframe_vacio()

# Rellenar el DataFrame vacío con los datos del DataFrame original
df_rellenado = rellenar_dataframe(df_vacio, df_original)

# Mostrar el DataFrame resultante
print(df_rellenado)
