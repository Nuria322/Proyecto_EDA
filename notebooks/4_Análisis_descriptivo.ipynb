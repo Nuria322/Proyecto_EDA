{
 "cells": [
  {
   "cell_type": "markdown",
   "metadata": {},
   "source": [
    "# Conclusiones \n",
    "Aquí van todas las conclusiones del análisis"
   ]
  },
  {
   "cell_type": "markdown",
   "metadata": {},
   "source": [
    "- Se consiguierosn los datos haciendo... ref: notebook\n",
    "- se hizo una exploracion y dio como resultado tantas filas y columnas\n",
    "- ES COMO EL REPORT PERO CON CÓDIGO (NO SOLO TEXTO PLANO)"
   ]
  },
  {
   "cell_type": "markdown",
   "metadata": {},
   "source": []
  },
  {
   "cell_type": "code",
   "execution_count": null,
   "metadata": {},
   "outputs": [],
   "source": []
  }
 ],
 "metadata": {
  "language_info": {
   "name": "python"
  }
 },
 "nbformat": 4,
 "nbformat_minor": 2
}
